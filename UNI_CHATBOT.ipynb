{
  "cells": [
    {
      "cell_type": "markdown",
      "metadata": {
        "id": "view-in-github",
        "colab_type": "text"
      },
      "source": [
        "<a href=\"https://colab.research.google.com/github/Pamela1005/NLP-PROJECT---CHATBOT/blob/main/CHATBOT.ipynb\" target=\"_parent\"><img src=\"https://colab.research.google.com/assets/colab-badge.svg\" alt=\"Open In Colab\"/></a>"
      ]
    },
    {
      "cell_type": "code",
      "source": [
        "# ============================================================\n",
        "# 🎓 University FAQ Chatbot\n",
        "# ============================================================\n",
        "\n",
        "# Import required libraries\n",
        "import pandas as pd\n",
        "import nltk\n",
        "from sklearn.feature_extraction.text import TfidfVectorizer\n",
        "from sklearn.metrics.pairwise import cosine_similarity\n",
        "from nltk.corpus import stopwords\n",
        "from nltk.stem import WordNetLemmatizer\n",
        "\n",
        "# Download NLTK data (run once)\n",
        "nltk.download('punkt')\n",
        "nltk.download('stopwords')\n",
        "nltk.download('wordnet')\n",
        "\n",
        "# ------------------------------------------------------------\n",
        "# Step 1: Create a sample FAQ dataset\n",
        "# ------------------------------------------------------------\n",
        "data = {\n",
        "    'Question': [\n",
        "        'How much is the admission fee?',\n",
        "        'How can I apply for a hostel?',\n",
        "        'When will exams start?',\n",
        "        'Where can I see my timetable?',\n",
        "        'What are the library timings?',\n",
        "        'Who is the Dean of the University?',\n",
        "        'How do I pay my semester fees?'\n",
        "    ],\n",
        "    'Answer': [\n",
        "        'Admission fee is ₹5000.',\n",
        "        'Fill the hostel form online at hostel.university.edu.',\n",
        "        'Exams will begin in December as per the academic calendar.',\n",
        "        'You can view your timetable on the student portal.',\n",
        "        'The library is open from 8 AM to 8 PM on weekdays.',\n",
        "        'Dr. Rakesh Sharma is the current Dean of the University.',\n",
        "        'You can pay your semester fees online via the student portal.'\n",
        "    ]\n",
        "}\n",
        "\n",
        "faq_df = pd.DataFrame(data)\n",
        "\n",
        "# ------------------------------------------------------------\n",
        "# Step 2: Preprocess text (cleaning and lemmatization)\n",
        "# ------------------------------------------------------------\n",
        "lemmatizer = WordNetLemmatizer()\n",
        "stop_words = set(stopwords.words('english'))\n",
        "\n",
        "def preprocess(text):\n",
        "    tokens = nltk.word_tokenize(text.lower())\n",
        "    tokens = [lemmatizer.lemmatize(w) for w in tokens if w.isalnum() and w not in stop_words]\n",
        "    return \" \".join(tokens)\n",
        "\n",
        "faq_df['Processed_Question'] = faq_df['Question'].apply(preprocess)\n",
        "\n",
        "# ------------------------------------------------------------\n",
        "# Step 3: Convert text to TF-IDF vectors\n",
        "# ------------------------------------------------------------\n",
        "vectorizer = TfidfVectorizer()\n",
        "X = vectorizer.fit_transform(faq_df['Processed_Question'])\n",
        "\n",
        "# ------------------------------------------------------------\n",
        "# Step 4: Find the best answer for a user query\n",
        "# ------------------------------------------------------------\n",
        "def get_answer(user_query):\n",
        "    query_processed = preprocess(user_query)\n",
        "    query_vector = vectorizer.transform([query_processed])\n",
        "    similarity = cosine_similarity(query_vector, X)\n",
        "\n",
        "    index = similarity.argmax()\n",
        "    score = similarity[0, index]\n",
        "\n",
        "    if score < 0.2:\n",
        "        return \"I'm sorry, I couldn't find relevant information. Please contact the admin office.\"\n",
        "    else:\n",
        "        return faq_df.iloc[index]['Answer']\n",
        "\n",
        "# ------------------------------------------------------------\n",
        "# Step 5: Chatbot interaction loop\n",
        "# ------------------------------------------------------------\n",
        "print(\"🎓 University FAQ Chatbot\")\n",
        "print(\"Type 'exit' to quit.\\n\")\n",
        "\n",
        "while True:\n",
        "    user_input = input(\"You: \")\n",
        "    if user_input.lower() in ['exit', 'quit']:\n",
        "        print(\"Chatbot: Goodbye! 👋\")\n",
        "        break\n",
        "    print(\"Chatbot:\", get_answer(user_input))\n"
      ],
      "metadata": {
        "colab": {
          "base_uri": "https://localhost:8080/"
        },
        "id": "02FDGqvIwpU-",
        "outputId": "e62ff56e-dee9-4c32-ec21-e3faf9e585ab"
      },
      "execution_count": null,
      "outputs": [
        {
          "output_type": "stream",
          "name": "stderr",
          "text": [
            "[nltk_data] Downloading package punkt to /root/nltk_data...\n",
            "[nltk_data]   Package punkt is already up-to-date!\n",
            "[nltk_data] Downloading package stopwords to /root/nltk_data...\n",
            "[nltk_data]   Package stopwords is already up-to-date!\n",
            "[nltk_data] Downloading package wordnet to /root/nltk_data...\n",
            "[nltk_data]   Package wordnet is already up-to-date!\n"
          ]
        },
        {
          "output_type": "stream",
          "name": "stdout",
          "text": [
            "🎓 University FAQ Chatbot\n",
            "Type 'exit' to quit.\n",
            "\n",
            "You: krmangalam \n",
            "Chatbot: I'm sorry, I couldn't find relevant information. Please contact the admin office.\n",
            "You: K. R Mangalam University\n",
            "Chatbot: Dr. Rakesh Sharma is the current Dean of the University.\n"
          ]
        }
      ]
    }
  ],
  "metadata": {
    "colab": {
      "name": "Welcome To Colab",
      "toc_visible": true,
      "provenance": [],
      "include_colab_link": true
    },
    "kernelspec": {
      "display_name": "Python 3",
      "name": "python3"
    }
  },
  "nbformat": 4,
  "nbformat_minor": 0
}
